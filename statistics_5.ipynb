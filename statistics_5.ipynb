{
 "cells": [
  {
   "cell_type": "code",
   "execution_count": 20,
   "metadata": {},
   "outputs": [
    {
     "name": "stdout",
     "output_type": "stream",
     "text": [
      "[100, 49, 45, 86, 23, 67, 90, 872, 53, 729, 54, 122, 98, 17, 62, 73, 972, 100, 49, 49, 49, 67, 45, 68, 34, 34]\n",
      "[200, 98, 90, 172, 46, 134, 180, 1744, 106, 1458, 108, 244, 196, 34, 124, 146, 1944, 200, 98, 98, 98, 134, 90, 136, 68, 68]\n",
      "Counter({49: 4, 67: 2, 100: 2, 45: 2, 34: 2, 68: 1, 98: 1, 54: 1, 17: 1, 872: 1, 73: 1, 972: 1, 53: 1, 86: 1, 23: 1, 729: 1, 90: 1, 122: 1, 62: 1})\n"
     ]
    }
   ],
   "source": [
    "from collections import Counter\n",
    "from matplotlib import pyplot as plt\n",
    "import math\n",
    "\n",
    "num_friends = [100, 49, 45, 86, 23, 67, 90, 872, 53, 729, 54, 122, 98, 17, 62, 73, 972, 100, 49, 49, 49,67, 45,68, 34,34]\n",
    "daily_minutes = [2*x for x in num_friends]\n",
    "\n",
    "print(num_friends)\n",
    "print(daily_minutes)\n",
    "\n",
    "# Describing a single ste of data:\n",
    "# Create a simple hstogram: \n",
    "# Counter: counts the occurrences of the elements of the LIST ==> Essentially generates a hash\n",
    "friends_counts = Counter(num_friends)\n",
    "# 49: 4\n",
    "# 100: 2\n",
    "# 45: 2\n",
    "\n",
    "print(friends_counts)"
   ]
  },
  {
   "cell_type": "code",
   "execution_count": 21,
   "metadata": {},
   "outputs": [
    {
     "data": {
      "image/png": "[encoded data removed]",
      "text/plain": [
       "<matplotlib.figure.Figure at 0xb4bb2b0>"
      ]
     },
     "metadata": {},
     "output_type": "display_data"
    }
   ],
   "source": [
    "xs = range(1001)\n",
    "# Y-axis is the count received above using count for each elemt in original list\n",
    "ys = [friends_counts[x] for x in xs]\n",
    "plt.bar(xs, ys)\n",
    "plt.axis([0,1001,0,10])\n",
    "plt.title(\"Histogram of Friend Counts\")\n",
    "plt.xlabel(\"# of Friends\")\n",
    "plt.ylabel(\"# Number of People\")\n",
    "plt.show()"
   ]
  },
  {
   "cell_type": "code",
   "execution_count": 22,
   "metadata": {},
   "outputs": [],
   "source": [
    "# Statistics:\n",
    "\n",
    "# Number of data points: Size of the data set\n",
    "num_points = len(num_friends)\n",
    "\n",
    "# Range (Min Max values)\n",
    "min_value = min(num_friends)\n",
    "max_value = max(num_friends)\n",
    "\n",
    "sorted_values = sorted(num_friends)\n",
    "smallest_value = sorted_values[0]\n",
    "second_smallest = sorted_values[1]\n",
    "second_largest_value = sorted_values[-2]"
   ]
  },
  {
   "cell_type": "code",
   "execution_count": 23,
   "metadata": {},
   "outputs": [
    {
     "name": "stdout",
     "output_type": "stream",
     "text": [
      "154\n"
     ]
    }
   ],
   "source": [
    "# Reviewing Central Tendencies:\n",
    "\n",
    "def mean(x):\n",
    "\n",
    "    return sum(x)/len(x)\n",
    "\n",
    "avg_num_friends = mean(num_friends)\n",
    "\n",
    "print(avg_num_friends)"
   ]
  },
  {
   "cell_type": "code",
   "execution_count": 24,
   "metadata": {},
   "outputs": [
    {
     "name": "stdout",
     "output_type": "stream",
     "text": [
      "64\n"
     ]
    }
   ],
   "source": [
    "# median: more resistant to values causing shifts in central tendancy\n",
    "\n",
    "def median(v):\n",
    "    \n",
    "    n = len(v)\n",
    "    \n",
    "    sorted_v = sorted(v)\n",
    "    \n",
    "    midpoint = n // 2\n",
    "    \n",
    "    # Even\n",
    "    if n % 2 == 0:\n",
    "        low_index = midpoint - 1\n",
    "        high_index = midpoint\n",
    "        \n",
    "        return (sorted_v[low_index] + sorted_v[high_index]) / 2\n",
    "    \n",
    "    else:\n",
    "        return sorted_v[midpoint]\n",
    "    \n",
    "median_num_friends = median(num_friends)\n",
    "\n",
    "print(median_num_friends)"
   ]
  },
  {
   "cell_type": "code",
   "execution_count": 25,
   "metadata": {
    "scrolled": true
   },
   "outputs": [
    {
     "name": "stdout",
     "output_type": "stream",
     "text": [
      "34\n",
      "49\n",
      "67\n",
      "98\n",
      "729\n"
     ]
    }
   ],
   "source": [
    "# Quantile: Generalization of the median which represnts the value less than which a certain percentile\n",
    "# of the data lies:\n",
    "\n",
    "# Median = 50% of data\n",
    "\n",
    "def quantile(x, p):\n",
    "    \"\"\"Returns the pth percentile value in x\"\"\"\n",
    "    p_index = int(p * len(x))\n",
    "    return sorted(x)[p_index]\n",
    "\n",
    "print(quantile(num_friends, 0.10))\n",
    "print(quantile(num_friends, 0.25))\n",
    "print(quantile(num_friends, 0.50))\n",
    "print(quantile(num_friends, 0.75))\n",
    "print(quantile(num_friends, 0.90))"
   ]
  },
  {
   "cell_type": "code",
   "execution_count": 26,
   "metadata": {},
   "outputs": [
    {
     "name": "stdout",
     "output_type": "stream",
     "text": [
      "[49]\n"
     ]
    }
   ],
   "source": [
    "# Mode: the most common value\n",
    "# Create counter using list which genertaes a hash (key: element in x => value: num times key appears in list)\n",
    "def mode(x):\n",
    "    \n",
    "    counts = Counter(x)\n",
    "    max_count = max(counts.values())\n",
    "    \n",
    "    # Do not need enumerate here since working on Counter (hash)\n",
    "    return [key for key, value in counts.iteritems() if value == max_count]\n",
    "\n",
    "\n",
    "num_friends_mode = mode(num_friends)\n",
    "\n",
    "print(num_friends_mode)"
   ]
  },
  {
   "cell_type": "code",
   "execution_count": 27,
   "metadata": {},
   "outputs": [],
   "source": [
    "#Dispersion: measure of how spread out the data is\n",
    "# Value near 0 then not very spread out\n",
    "\n",
    "# Range: Diff between max and min list values\n",
    "def data_range(x):\n",
    "    \n",
    "    return max(x) - min(x)\n",
    "\n",
    "# More complex measure of dispersion is variance\n",
    "\n",
    "def de_mean(x):\n",
    "    \n",
    "    # Sum values in x\n",
    "    x_mean = mean(x)\n",
    "    \n",
    "    return [x_i - x_mean for x_i in x]\n",
    "\n",
    "# dot product: sum of component products measures how far the vector v extends in the w direction\n",
    "# length of the vector you would get if you projected v onto w\n",
    "def dot(v, w):\n",
    "    \"\"\"v_1 * w_1 + ... + v_n * w_n\"\"\"\n",
    "    return sum(v_i * w_i for v_i, w_i in zip(v,w)) \n",
    "\n",
    "def sum_of_squares(v):\n",
    "    \n",
    "    return dot(v,v)\n",
    "\n",
    "def variance(x):\n",
    "    \n",
    "    n = len(x)\n",
    "    deviations = de_mean(x)\n",
    "    return sum_of_squares(deviations) / (n-1)\n",
    "\n",
    "# Define the median range of values:\n",
    "def standard_deviation(x):\n",
    "    return math.sqrt(variance(x))\n",
    "\n",
    "# More robust approach computes the diff between 75th percentile and 25% percentile\n",
    "# to avoid outliers:\n",
    "\n",
    "def interquartile_range(x):\n",
    "    \n",
    "    return quantile(x, 0.75) - quantile(x, 0.25)\n",
    "\n"
   ]
  },
  {
   "cell_type": "code",
   "execution_count": 28,
   "metadata": {},
   "outputs": [
    {
     "name": "stdout",
     "output_type": "stream",
     "text": [
      "137946\n",
      "0.999998187702\n"
     ]
    }
   ],
   "source": [
    "# Correlation: describing association between variables\n",
    "\n",
    "# a. Covariance: measures how 2 variables vary in tandem\n",
    "def covariance(x, y):\n",
    "    \n",
    "    n = len(x)\n",
    "    # dot product: sums the products of corresponding pairs of elements\n",
    "    # Wehn x, y elements are both either above or below their means they have a postive covariance (more highly correlated)\n",
    "    # When x, y differ then a negative covariance is produced (less correlated)\n",
    "    # Large positive covariance: both x,y are either large or samll in unison\n",
    "    # Large Negative covariance: x,y values differ in the extremes from one another\n",
    "    return dot(de_mean(x), de_mean(y)) / (n-1)\n",
    "\n",
    "friend_time_cov = covariance(num_friends, daily_minutes)\n",
    "    \n",
    "print(friend_time_cov)\n",
    "\n",
    "# Divides out the standard deviations of both variables\n",
    "# Leades to a vlaue in range of -1 to 1\n",
    "# 1: Perfect correlation\n",
    "# -1: No correlation\n",
    "def correlation(x, y):\n",
    "    \n",
    "    stdev_x = standard_deviation(x)\n",
    "    stdev_y = standard_deviation(y)\n",
    "    \n",
    "    if stdev_x > 0 and stdev_y > 0:\n",
    "        return covariance(x,y) / stdev_x / stdev_y\n",
    "    else:\n",
    "        return 0\n",
    "    \n",
    "\n",
    "friend_time_corr = correlation(num_friends, daily_minutes)\n",
    "    \n",
    "print(friend_time_corr)\n",
    "    "
   ]
  },
  {
   "cell_type": "code",
   "execution_count": null,
   "metadata": {},
   "outputs": [],
   "source": []
  }
 ],
 "metadata": {
  "kernelspec": {
   "display_name": "Python 2",
   "language": "python",
   "name": "python2"
  },
  "language_info": {
   "codemirror_mode": {
    "name": "ipython",
    "version": 2
   },
   "file_extension": ".py",
   "mimetype": "text/x-python",
   "name": "python",
   "nbconvert_exporter": "python",
   "pygments_lexer": "ipython2",
   "version": "2.7.14"
  }
 },
 "nbformat": 4,
 "nbformat_minor": 2
}
