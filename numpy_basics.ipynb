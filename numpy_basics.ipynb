{
 "cells": [
  {
   "cell_type": "code",
   "execution_count": 2,
   "metadata": {},
   "outputs": [
    {
     "name": "stdout",
     "output_type": "stream",
     "text": [
      "Wall time: 76 ms\n",
      "Wall time: 486 ms\n"
     ]
    }
   ],
   "source": [
    "# Numeric Python\n",
    "# Useful for:\n",
    "\n",
    "# 4.1: ndarray: efficient multidimensional array providing fast array-orientataed arithmetic operations \n",
    "# and flexible broadcasting capabilities:\n",
    "\n",
    "import numpy as np\n",
    "\n",
    "my_np_array = np.arange(1000000)\n",
    "\n",
    "my_reg_list = list(range(1000000))\n",
    "\n",
    "# Multiply each by time and checking timing:\n",
    "# Perform 10 iterations:\n",
    "%time for _ in range(10): my_np_array2 = my_np_array * 2\n",
    "    \n",
    "%time for _ in range(10): my_reg_list2 = my_reg_list * 2"
   ]
  },
  {
   "cell_type": "code",
   "execution_count": 8,
   "metadata": {},
   "outputs": [
    {
     "name": "stdout",
     "output_type": "stream",
     "text": [
      "[[-0.65844096 -0.33142109  1.00431084]\n",
      " [ 0.82894864  0.85543754  0.12712553]]\n",
      "[[-0.65844096 -0.33142109  1.00431084]\n",
      " [ 0.82894864  0.85543754  0.12712553]]\n",
      "[[-0.65844096 -0.33142109  1.00431084]\n",
      " [ 0.82894864  0.85543754  0.12712553]]\n",
      "(2L, 3L)\n",
      "float64\n"
     ]
    }
   ],
   "source": [
    "# Genrtae a small set of data:\n",
    "import numpy as np\n",
    "\n",
    "data = np.random.randn(2, 3)\n",
    "\n",
    "print(data)\n",
    "\n",
    "data * 10\n",
    "\n",
    "print(data)\n",
    "\n",
    "data + data\n",
    "\n",
    "print(data)\n",
    "\n",
    "\n",
    "# ndarray is a multidimensional container for homogenous data\n",
    "# all elements must be of the same type\n",
    "# Every array has a shape which is a tuple indicating the number or rows and columns\n",
    "print(data.shape)\n",
    "\n",
    "# dtype indicates the dta type of the dataframe:\n",
    "print(data.dtype)"
   ]
  },
  {
   "cell_type": "code",
   "execution_count": 10,
   "metadata": {},
   "outputs": [
    {
     "name": "stdout",
     "output_type": "stream",
     "text": [
      "[6.  7.5 8.  0.  1. ]\n",
      "[[1 2 3 4]\n",
      " [5 6 7 8]]\n",
      "2\n",
      "(2L, 4L)\n"
     ]
    }
   ],
   "source": [
    "import numpy as np\n",
    "\n",
    "# We can convert lists into ndarray\n",
    "data1 = [6, 7.5, 8, 0 , 1]\n",
    "arr1 = np.array(data1)\n",
    "print(arr1)\n",
    "\n",
    "# lists of equal length will be converted into multiple dimensions:\n",
    "data2 = [[1,2,3,4], [5,6,7,8]]\n",
    "arr2 = np.array(data2)\n",
    "\n",
    "print(arr2)\n",
    "\n",
    "# can get number of dimensios:\n",
    "print(arr2.ndim)\n",
    "\n",
    "print(arr2.shape)"
   ]
  },
  {
   "cell_type": "code",
   "execution_count": 12,
   "metadata": {},
   "outputs": [
    {
     "name": "stdout",
     "output_type": "stream",
     "text": [
      "[[0. 0. 0. 0. 0. 0.]\n",
      " [0. 0. 0. 0. 0. 0.]\n",
      " [0. 0. 0. 0. 0. 0.]]\n"
     ]
    }
   ],
   "source": [
    "import numpy as np\n",
    "\n",
    "# We can create an ndarry with entirety set to zero automatically:\n",
    "np_zeroes = np.zeros((3,6))\n",
    "print(np_zeroes)\n"
   ]
  },
  {
   "cell_type": "code",
   "execution_count": 5,
   "metadata": {},
   "outputs": [
    {
     "name": "stdout",
     "output_type": "stream",
     "text": [
      "['Bob' 'Joe' 'Will' 'Bob' 'Will' 'Joe' 'Joe']\n",
      "[[-0.47162174 -0.43254788  1.48822198 -0.26800578]\n",
      " [ 0.20602987 -0.35034994  1.69100657 -0.60995338]\n",
      " [ 1.79620827  1.03464522  1.1677143  -2.89082562]\n",
      " [-0.32439854  1.95406384 -0.10597014 -0.26547541]\n",
      " [-1.97822875 -0.45050084  0.79626969 -1.30561093]\n",
      " [-0.16816995 -0.26176989 -0.09198863  0.01511523]\n",
      " [-2.60389105 -0.39964671 -0.68326824  1.01650488]]\n",
      "[ True False False  True False False False]\n",
      "[[-0.47162174 -0.43254788  1.48822198 -0.26800578]\n",
      " [-0.32439854  1.95406384 -0.10597014 -0.26547541]]\n",
      "()\n",
      "[[ 1.48822198 -0.26800578]\n",
      " [-0.10597014 -0.26547541]]\n",
      "[[ 0.20602987 -0.35034994  1.69100657 -0.60995338]\n",
      " [ 1.79620827  1.03464522  1.1677143  -2.89082562]\n",
      " [-1.97822875 -0.45050084  0.79626969 -1.30561093]\n",
      " [-0.16816995 -0.26176989 -0.09198863  0.01511523]\n",
      " [-2.60389105 -0.39964671 -0.68326824  1.01650488]]\n",
      "Bob OR Will rows:\n",
      "[[-0.47162174 -0.43254788  1.48822198 -0.26800578]\n",
      " [ 1.79620827  1.03464522  1.1677143  -2.89082562]\n",
      " [-0.32439854  1.95406384 -0.10597014 -0.26547541]\n",
      " [-1.97822875 -0.45050084  0.79626969 -1.30561093]]\n"
     ]
    }
   ],
   "source": [
    "import numpy as np\n",
    "\n",
    "# Boolean Indexing:\n",
    "# bOOLEAN OPERATIONS ON THESE \"DATGAFRAMES\" Suggesting multiple variables in comparison:\n",
    "names = np.array(['Bob', 'Joe', 'Will', 'Bob', 'Will', 'Joe', 'Joe'])\n",
    "print(names)\n",
    "\n",
    "data = np.random.randn(7, 4)\n",
    "print(data)\n",
    "\n",
    "# If we suggest each name corresponds to a row in the data array \n",
    "# and we wanted to select all the rows with a name of 'Bob' as a boolean:\n",
    "print(names == 'Bob')\n",
    "\n",
    "# Return a listing of the True rows indicated by the indexes above:\n",
    "print(data[names == 'Bob'])\n",
    "\n",
    "print()\n",
    "# We can als perform further indexing as folllows to keep only certain columns:\n",
    "print(data[names == 'Bob', 2:])\n",
    "\n",
    "# Select everything but bob rows using negation:\n",
    "cond = names == 'Bob'\n",
    "print(data[~cond])\n",
    "\n",
    "# We can also use AND (INTERSECT) / OR (UNION) operators:\n",
    "mask = (names == 'Bob') | (names == 'Will')\n",
    "print ('Bob OR Will rows:')\n",
    "print(data[mask])\n",
    "\n"
   ]
  },
  {
   "cell_type": "code",
   "execution_count": null,
   "metadata": {},
   "outputs": [],
   "source": [
    "    "
   ]
  }
 ],
 "metadata": {
  "kernelspec": {
   "display_name": "Python 2",
   "language": "python",
   "name": "python2"
  },
  "language_info": {
   "codemirror_mode": {
    "name": "ipython",
    "version": 2
   },
   "file_extension": ".py",
   "mimetype": "text/x-python",
   "name": "python",
   "nbconvert_exporter": "python",
   "pygments_lexer": "ipython2",
   "version": "2.7.14"
  }
 },
 "nbformat": 4,
 "nbformat_minor": 2
}
