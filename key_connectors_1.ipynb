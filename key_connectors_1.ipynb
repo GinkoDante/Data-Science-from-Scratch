{
 "cells": [
  {
   "cell_type": "code",
   "execution_count": 34,
   "metadata": {},
   "outputs": [],
   "source": [
    "users = [\n",
    "    {\"id\": 0, \"name\": \"Hero0\"},\n",
    "    {\"id\": 1, \"name\": \"Hero1\"},\n",
    "    {\"id\": 2, \"name\": \"Hero2\"},\n",
    "    {\"id\": 3, \"name\": \"Hero3\"},\n",
    "    {\"id\": 4, \"name\": \"Hero4\"},\n",
    "    {\"id\": 5, \"name\": \"Hero5\"},\n",
    "    {\"id\": 6, \"name\": \"Hero6\"},\n",
    "    {\"id\": 7, \"name\": \"Hero7\"},\n",
    "    {\"id\": 8, \"name\": \"Hero8\"},\n",
    "    {\"id\": 9, \"name\": \"Hero9\"}\n",
    "]\n",
    "\n",
    "friendships = [(0,1),(0,2),(1,2),(1,2),(2,3),(3,4),\n",
    "              (4,5),(5,6),(5,7),(6,8),(7,8),(8,9),(9,1)]"
   ]
  },
  {
   "cell_type": "code",
   "execution_count": 35,
   "metadata": {},
   "outputs": [],
   "source": [
    "for user in users:\n",
    "    user[\"friends\"] = []"
   ]
  },
  {
   "cell_type": "code",
   "execution_count": 36,
   "metadata": {},
   "outputs": [],
   "source": [
    "for i,j in friendships:\n",
    "    users[i][\"friends\"].append(users[j])\n",
    "    users[j][\"friends\"].append(users[i])"
   ]
  },
  {
   "cell_type": "code",
   "execution_count": 37,
   "metadata": {},
   "outputs": [],
   "source": [
    "# Get the number of connections per user:\n",
    "def number_of_friends(user):\n",
    "    return len(user[\"friends\"])\n",
    "\n",
    "total_connections = sum(number_of_friends(user) \n",
    "                        for user in users)\n",
    "\n",
    "from __future__ import division\n",
    "\n",
    "num_users = len(users)\n",
    "\n",
    "avg_connections = total_connections / num_users"
   ]
  },
  {
   "cell_type": "code",
   "execution_count": 38,
   "metadata": {},
   "outputs": [
    {
     "name": "stdout",
     "output_type": "stream",
     "text": [
      "2.6\n"
     ]
    }
   ],
   "source": [
    "print (avg_connections)"
   ]
  },
  {
   "cell_type": "code",
   "execution_count": 39,
   "metadata": {},
   "outputs": [
    {
     "name": "stdout",
     "output_type": "stream",
     "text": [
      "[(0, 2), (1, 4), (2, 4), (3, 2), (4, 2), (5, 3), (6, 2), (7, 2), (8, 3), (9, 2)]\n",
      "[(1, 4), (2, 4), (5, 3), (8, 3), (0, 2), (3, 2), (4, 2), (6, 2), (7, 2), (9, 2)]\n"
     ]
    }
   ],
   "source": [
    "# List of dictionaries of the number of friends per user:\n",
    "num_friends_by_id = [(user[\"id\"], number_of_friends(user))\n",
    "                   for user in users]\n",
    "\n",
    "print(num_friends_by_id)\n",
    "\n",
    "# Sort the num_friends_by_id by the second value in desc order\n",
    "print(sorted(num_friends_by_id, \n",
    "      key=lambda (user_id, num_friends): num_friends,\n",
    "      reverse=True))"
   ]
  },
  {
   "cell_type": "code",
   "execution_count": 40,
   "metadata": {},
   "outputs": [],
   "source": [
    "# Find all friends of user friends:\n",
    "def friends_of_friend(user):\n",
    "    return [foaf[\"id\"]\n",
    "            for friend in user[\"friends\"]\n",
    "            for foaf  in friend[\"friends\"]]"
   ]
  },
  {
   "cell_type": "code",
   "execution_count": 41,
   "metadata": {},
   "outputs": [],
   "source": [
    "# User Interests listing:\n",
    "interests = [\n",
    "    (0, \"Hadoop\"),(0, \"Big Data\"), (0, \"HBase\"), (0, \"Java\"),\n",
    "    (0, \"Spark\"), (0, \"C#\"), (0, \"FireBase\"),\n",
    "    (1,\"NoSQL\"), (1,\"MongoDB\"), (1, \"Cassandra\"), (1,\"HBase\"),\n",
    "    (1, \"PostGres\"), (2, \"Python\"), (2, \"scikit-learn\"), (2, \"scipy\"),\n",
    "    (2, \"numpy\"),(2, \"statmodels\"), (2,\"pandas\"), (3, \"R\"), (3,\"Python\"),\n",
    "    (3, \"statistics\"), (3,\"regression\"), (3,\"probability\"),\n",
    "    (4,\"machine learning\"), (4, \"regression\"), (4, \"statistics\"),\n",
    "    (4, \"Python\"),(5,\"Python\"),(5, \"R\"),(5, \"Java\"),(6, \"statistics\"),\n",
    "    (6,\"probability\"),(6, \"mathematics\"), (6, \"theory\"),\n",
    "    (7,\"machine learning\"), (7,\"scikit-learn\"),(7, \"R\"), (7, \"Mahout\"),\n",
    "    (7, \"neural networks\"), (8, \"neural networks\"), (8, \"deep learning\"),\n",
    "    (8, \"Big Data\"), (8, \"AI\"), (9, \"Hadoop\"), (9, \"Java\"), (9, \"MapReduce\"), (9, \"Big Data\")\n",
    "]"
   ]
  },
  {
   "cell_type": "code",
   "execution_count": 42,
   "metadata": {
    "scrolled": true
   },
   "outputs": [
    {
     "name": "stdout",
     "output_type": "stream",
     "text": [
      "defaultdict(<type 'list'>, {'Java': [0, 5, 9], 'neural networks': [7, 8], 'NoSQL': [1], 'Hadoop': [0, 9], 'Mahout': [7], 'FireBase': [0], 'regression': [3, 4], 'theory': [6], 'statistics': [3, 4, 6], 'probability': [3, 6], 'C#': [0], 'deep learning': [8], 'mathematics': [6], 'Spark': [0], 'numpy': [2], 'pandas': [2], 'statmodels': [2], 'PostGres': [1], 'AI': [8], 'R': [3, 5, 7], 'HBase': [0, 1], 'Big Data': [0, 8, 9], 'MongoDB': [1], 'scikit-learn': [2, 7], 'MapReduce': [9], 'machine learning': [4, 7], 'Python': [2, 3, 4, 5], 'scipy': [2], 'Cassandra': [1]})\n",
      "defaultdict(<type 'list'>, {0: ['Hadoop', 'Big Data', 'HBase', 'Java', 'Spark', 'C#', 'FireBase'], 1: ['NoSQL', 'MongoDB', 'Cassandra', 'HBase', 'PostGres'], 2: ['Python', 'scikit-learn', 'scipy', 'numpy', 'statmodels', 'pandas'], 3: ['R', 'Python', 'statistics', 'regression', 'probability'], 4: ['machine learning', 'regression', 'statistics', 'Python'], 5: ['Python', 'R', 'Java'], 6: ['statistics', 'probability', 'mathematics', 'theory'], 7: ['machine learning', 'scikit-learn', 'R', 'Mahout', 'neural networks'], 8: ['neural networks', 'deep learning', 'Big Data', 'AI'], 9: ['Hadoop', 'Java', 'MapReduce', 'Big Data']})\n"
     ]
    }
   ],
   "source": [
    "from collections import defaultdict\n",
    "\n",
    "interest_users = defaultdict(list)\n",
    "\n",
    "# Create dicts from interests to users\n",
    "for user_id, interest in interests:\n",
    "    interest_users[interest].append(user_id)\n",
    "    \n",
    "user_interests = defaultdict(list)\n",
    "    \n",
    "# Create dict from user_id to interest:\n",
    "for user_id, interest in interests:\n",
    "    user_interests[user_id].append(interest)\n",
    "    \n",
    "print(interest_users)\n",
    "print(user_interests)"
   ]
  },
  {
   "cell_type": "code",
   "execution_count": 43,
   "metadata": {
    "scrolled": true
   },
   "outputs": [
    {
     "name": "stdout",
     "output_type": "stream",
     "text": [
      "0: Counter({9: 3, 8: 1, 5: 1, 1: 1})\n"
     ]
    }
   ],
   "source": [
    "import collections\n",
    "\n",
    "# Function to find who has the most interests in common with a given user:\n",
    "def most_interests_in_common(user_id):\n",
    "    \n",
    "    # Iterate over the entered user's interests:\n",
    "    return collections.Counter(other_user_id\n",
    "        for interest in user_interests[user_id]\n",
    "        # For each intersest, get other users with the same interest:\n",
    "        for other_user_id in interest_users[interest]\n",
    "        # Count the number of times a user is seen with a common interest:\n",
    "        if user_id != other_user_id)\n",
    "            \n",
    "print(\"0: \" + str(most_interests_in_common(0)))"
   ]
  },
  {
   "cell_type": "code",
   "execution_count": null,
   "metadata": {},
   "outputs": [],
   "source": []
  }
 ],
 "metadata": {
  "kernelspec": {
   "display_name": "Python 2",
   "language": "python",
   "name": "python2"
  },
  "language_info": {
   "codemirror_mode": {
    "name": "ipython",
    "version": 2
   },
   "file_extension": ".py",
   "mimetype": "text/x-python",
   "name": "python",
   "nbconvert_exporter": "python",
   "pygments_lexer": "ipython2",
   "version": "2.7.14"
  }
 },
 "nbformat": 4,
 "nbformat_minor": 2
}
