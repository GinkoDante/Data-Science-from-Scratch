{
 "cells": [
  {
   "cell_type": "code",
   "execution_count": 5,
   "metadata": {},
   "outputs": [],
   "source": [
    "users = [\n",
    "    {\"id\": 0, \"name\": \"Hero0\"},\n",
    "    {\"id\": 1, \"name\": \"Hero1\"},\n",
    "    {\"id\": 2, \"name\": \"Hero2\"},\n",
    "    {\"id\": 3, \"name\": \"Hero3\"},\n",
    "    {\"id\": 4, \"name\": \"Hero4\"},\n",
    "    {\"id\": 5, \"name\": \"Hero5\"},\n",
    "    {\"id\": 6, \"name\": \"Hero6\"},\n",
    "    {\"id\": 7, \"name\": \"Hero7\"},\n",
    "    {\"id\": 8, \"name\": \"Hero8\"},\n",
    "    {\"id\": 9, \"name\": \"Hero9\"}\n",
    "]\n",
    "\n",
    "friendships = [(0,1),(0,2),(1,2),(1,2),(2,3),(3,4),\n",
    "              (4,5),(5,6),(5,7),(6,8),(7,8),(8,9),(9,1)]"
   ]
  },
  {
   "cell_type": "code",
   "execution_count": 6,
   "metadata": {},
   "outputs": [],
   "source": [
    "for user in users:\n",
    "    user[\"friends\"] = []"
   ]
  },
  {
   "cell_type": "code",
   "execution_count": 7,
   "metadata": {},
   "outputs": [],
   "source": [
    "for i,j in friendships:\n",
    "    users[i][\"friends\"].append(users[j])\n",
    "    users[j][\"friends\"].append(users[i])"
   ]
  },
  {
   "cell_type": "code",
   "execution_count": 8,
   "metadata": {},
   "outputs": [],
   "source": [
    "# Get the number of connections per user:\n",
    "def number_of_friends(user):\n",
    "    return len(user[\"friends\"])\n",
    "\n",
    "total_connections = sum(number_of_friends(user) \n",
    "                        for user in users)\n",
    "\n",
    "from __future__ import division\n",
    "\n",
    "num_users = len(users)\n",
    "\n",
    "avg_connections = total_connections / num_users"
   ]
  },
  {
   "cell_type": "code",
   "execution_count": 9,
   "metadata": {},
   "outputs": [
    {
     "name": "stdout",
     "output_type": "stream",
     "text": [
      "2.6\n"
     ]
    }
   ],
   "source": [
    "print (avg_connections)"
   ]
  },
  {
   "cell_type": "code",
   "execution_count": 14,
   "metadata": {},
   "outputs": [
    {
     "name": "stdout",
     "output_type": "stream",
     "text": [
      "[(0, 2), (1, 4), (2, 4), (3, 2), (4, 2), (5, 3), (6, 2), (7, 2), (8, 3), (9, 2)]\n",
      "[(1, 4), (2, 4), (5, 3), (8, 3), (0, 2), (3, 2), (4, 2), (6, 2), (7, 2), (9, 2)]\n"
     ]
    }
   ],
   "source": [
    "# List of dictionaries of the number of friends per user:\n",
    "num_friends_by_id = [(user[\"id\"], number_of_friends(user))\n",
    "                   for user in users]\n",
    "\n",
    "print(num_friends_by_id)\n",
    "\n",
    "# Sort the num_friends_by_id by the second value in desc order\n",
    "print(sorted(num_friends_by_id, \n",
    "      key=lambda (user_id, num_friends): num_friends,\n",
    "      reverse=True))"
   ]
  },
  {
   "cell_type": "code",
   "execution_count": null,
   "metadata": {},
   "outputs": [],
   "source": [
    "# Find all friends of user friends:\n",
    "def friends_of_friend(user):\n",
    "    return [foaf[\"id\"]\n",
    "            for friend in user[\"friends\"]\n",
    "            for foaf  in friend[\"friends\"]]"
   ]
  },
  {
   "cell_type": "code",
   "execution_count": 1,
   "metadata": {},
   "outputs": [],
   "source": [
    "# User Interests listing:\n",
    "interests = [\n",
    "    (0, \"Hadoop\"),(0, \"Big Data\"), (0, \"HBase\"), (0, \"Java\"),\n",
    "    (0, \"Spark\"), (0, \"C#\"), (0, \"FireBase\"),\n",
    "    (1,\"NoSQL\"), (1,\"MongoDB\"), (1, \"Cassandra\"), (1,\"HBase\"),\n",
    "    (1, \"PostGres\"), (2, \"Python\"), (2, \"scikit-learn\"), (2, \"scipy\"),\n",
    "    (2, \"numpy\"),(2, \"statmodels\"), (2,\"pandas\"), (3, \"R\"), (3,\"Python\"),\n",
    "    (3, \"statistics\"), (3,\"regression\"), (3,\"probability\"),\n",
    "    (4,\"machine learning\"), (4, \"regression\"), (4, \"statistics\"),\n",
    "    (4, \"Python\"),(5,\"Python\"),(5, \"R\"),(5, \"Java\"),(6, \"statistics\"),\n",
    "    (6,\"probability\"),(6, \"mathematics\"), (6, \"theory\"),\n",
    "    (7,\"machine learning\"), (7,\"scikit-learn\"),(7, \"R\"), (7, \"Mahout\"),\n",
    "    (7, \"neural networks\"), (8, \"neural networks\"), (8, \"deep learning\"),\n",
    "    (8, \"Big Data\"), (8, \"AI\"), (9, \"Hadoop\"), (9, \"Java\"), (9, \"MapReduce\"), (9, \"Big Data\")\n",
    "]"
   ]
  },
  {
   "cell_type": "code",
   "execution_count": 3,
   "metadata": {},
   "outputs": [
    {
     "ename": "NameError",
     "evalue": "name 'interest_users' is not defined",
     "output_type": "error",
     "traceback": [
      "\u001b[1;31m---------------------------------------------------------------------------\u001b[0m",
      "\u001b[1;31mNameError\u001b[0m                                 Traceback (most recent call last)",
      "\u001b[1;32m<ipython-input-3-033ba67cc874>\u001b[0m in \u001b[0;36m<module>\u001b[1;34m()\u001b[0m\n\u001b[0;32m      3\u001b[0m \u001b[1;31m# Create dicts from interests to users\u001b[0m\u001b[1;33m\u001b[0m\u001b[1;33m\u001b[0m\u001b[0m\n\u001b[0;32m      4\u001b[0m \u001b[1;32mfor\u001b[0m \u001b[0muser_id\u001b[0m\u001b[1;33m,\u001b[0m \u001b[0minterest\u001b[0m \u001b[1;32min\u001b[0m \u001b[0minterests\u001b[0m\u001b[1;33m:\u001b[0m\u001b[1;33m\u001b[0m\u001b[0m\n\u001b[1;32m----> 5\u001b[1;33m     \u001b[0minterest_users\u001b[0m\u001b[1;33m[\u001b[0m\u001b[0minterest\u001b[0m\u001b[1;33m]\u001b[0m\u001b[1;33m.\u001b[0m\u001b[0mappend\u001b[0m\u001b[1;33m(\u001b[0m\u001b[0muser_id\u001b[0m\u001b[1;33m)\u001b[0m\u001b[1;33m\u001b[0m\u001b[0m\n\u001b[0m\u001b[0;32m      6\u001b[0m \u001b[1;33m\u001b[0m\u001b[0m\n\u001b[0;32m      7\u001b[0m \u001b[1;31m# Create dict from user_id to interest:\u001b[0m\u001b[1;33m\u001b[0m\u001b[1;33m\u001b[0m\u001b[0m\n",
      "\u001b[1;31mNameError\u001b[0m: name 'interest_users' is not defined"
     ]
    }
   ],
   "source": [
    "from collections import defaultdict\n",
    "\n",
    "interest_users = defaultdict(list)\n",
    "\n",
    "# Create dicts from interests to users\n",
    "for user_id, interest in interests:\n",
    "    interest_users[interest].append(user_id)\n",
    "    \n",
    "user_interests = defaultdict(list)\n",
    "    \n",
    "# Create dict from user_id to interest:\n",
    "for user_id, interest in interests:\n",
    "    user_interests[user_id].append(interest)\n",
    "    \n",
    "print(interest_users)\n",
    "print(user_interests)"
   ]
  }
 ],
 "metadata": {
  "kernelspec": {
   "display_name": "Python 2",
   "language": "python",
   "name": "python2"
  },
  "language_info": {
   "codemirror_mode": {
    "name": "ipython",
    "version": 2
   },
   "file_extension": ".py",
   "mimetype": "text/x-python",
   "name": "python",
   "nbconvert_exporter": "python",
   "pygments_lexer": "ipython2",
   "version": "2.7.14"
  }
 },
 "nbformat": 4,
 "nbformat_minor": 2
}
