{
 "cells": [
  {
   "cell_type": "code",
   "execution_count": null,
   "metadata": {},
   "outputs": [],
   "source": [
    "# Probability of the Event E: P(E)\n",
    "\n",
    "# Independent Events: knowing info about event E gives us no info about whether event F will occur\n",
    "# Probability of flipping a coin twice and getting 2 HEADS:\n",
    "## 1st flip is HEADS gives us no info about whether the second flip will be HEADS\n",
    "\n",
    "# Probability of both events occurring is the probability that both events occur:\n",
    "P(E,F) = P(E)P(F)\n",
    "\n",
    "    # Probability of 1st flip Heads = 1/2\n",
    "    # Probability that both flips Tails = 1/2 * 1/2 = 1/4 (Genome box)\n",
    "\n",
    "# Dependent Events: knowing info about event E gives us info about whether event F will occur:\n",
    "# Probability of flipping a coin twice and getting 2 HEADS:\n",
    "## 1st flip is TAILS ==> We immediately know that the probability is 0\n",
    "\n",
    "    # Probability of first flip Heads AND both flips Tails = 1/2 * 0 = 0\n",
    "\n",
    "# Dependent / Conditional Probability where P(F) != 0:\n",
    "# Think of as the Probability that E occurs given that we know event F occurs:\n",
    "P(E|F) = P(E,F)/P(F)\n",
    "\n",
    "# We can confirm that thsi would give us soley the P(E) when P(F) is independent of P(F):\n",
    "# Confirms taht knowing eevnt F occurs gives us no additional info as to whther event E occurs:\n",
    "P(E|F) = P(E)\n",
    "\n",
    "# Example: Family with 2 unknown gender children:\n",
    "\n",
    "# Assume:\n",
    "# 1. Each child is equally likely to be a girl or a boy: 1/2\n",
    "# 2. The gender of the second child is INDEPENDENT of the gender of the first child\n",
    "\n",
    "'''\n",
    "    b    g\n",
    "\n",
    "b   bb   bg\n",
    "\n",
    "g   bg   gg\n",
    "\n",
    "'''\n",
    "\n",
    "# Probability of the event \"no girls\": 1/4\n",
    "# Probability of THE EVENT 1 boy and 1 girl: 1/2\n",
    "# Probability of the event \"two girls\": 1/4\n",
    "\n",
    "# What is the probability of the event B \"both children are girls\" conditional on the event G \"the older child is a girl\": \n",
    "\n",
    "#  _(older child is a girl - G) & _ (younger child - either boy or girl - 1/2)\n",
    "\n",
    "P(B|G) = P(B,G)/P(G) = P(B) / P(G) == P(L) # probabaility the younger child is a girl since we know that the first child is a girl \n",
    "\n",
    "# What is the probability of the event B \"both children are girls\" conditional on the event L \"at least one of the children is a girl\": \n",
    "\n",
    "P(B|L) = P(B,L)/P(L) = P(B) / P(L) = 1/4 / 3/4 = 1/3\n",
    "\n"
   ]
  },
  {
   "cell_type": "code",
   "execution_count": 4,
   "metadata": {},
   "outputs": [
    {
     "name": "stdout",
     "output_type": "stream",
     "text": [
      "P(both | older) girls:  0.514228456914\n",
      "P(both | either) girls:  0.341541328364\n"
     ]
    }
   ],
   "source": [
    "# Genertae list of families:\n",
    "from __future__ import division\n",
    "import random\n",
    "\n",
    "def random_gender():\n",
    "    return random.choice([\"boy\", \"girl\"])\n",
    "\n",
    "\n",
    "both_girls = 0\n",
    "older_girl = 0\n",
    "either_girl = 0\n",
    "\n",
    "random.seed(0)\n",
    "\n",
    "for _ in range(10000):\n",
    "    \n",
    "    younger = random_gender()\n",
    "    older = random_gender()\n",
    "    \n",
    "    if older == \"girl\":\n",
    "        older_girl += 1\n",
    "    if older == \"girl\" and younger == \"girl\":\n",
    "        both_girls += 1\n",
    "    if older == \"girl\" or younger == \"girl\":\n",
    "        either_girl += 1\n",
    "\n",
    "        \n",
    "# Run calc for P in which older child is a girl and both children are girls: Expected 1/2 outcome\n",
    "print \"P(both | older) girls: \", both_girls / older_girl\n",
    "\n",
    "# Run calc for P in which at least on of the children is a girl and both children are girls: Expected 1/3 outcome\n",
    "print \"P(both | either) girls: \", both_girls / either_girl"
   ]
  },
  {
   "cell_type": "code",
   "execution_count": null,
   "metadata": {},
   "outputs": [],
   "source": [
    "# Bayes Theorem: Reverse Conditional Probabilities\n",
    "\n",
    "# In this case we want to know the P of some event E conditional on event F occuring\n",
    "# BUT, We only have info on the reverse: P(F) conditional E occurs\n",
    "\n",
    "# The P of  E dependent on F = P of E * P of F / P of F\n",
    "# Also equal to P of F dependent on P of E * P of E / P of F\n",
    "P(E|F) = P(E,F)/P(F) = P(F|E)P(E) / P(F)\n",
    "\n",
    "# The event F can be split into 2 MUTUALLY EXCLUSIVE Events:\n",
    "# 1. F and E\n",
    "# 2. F and NOT E\n",
    "\n",
    "P(F) = P(F,E) + P(F,!E)"
   ]
  },
  {
   "cell_type": "code",
   "execution_count": 2,
   "metadata": {},
   "outputs": [],
   "source": [
    "# Random Variables: a variable whose possible outcomes have an associated value equally distributed\n",
    "# Example 1: Coin flip with Head = 1 and Tails = 0\n",
    "\n",
    "# Expected value of a random variable: P(Coin flip) = 1/2 = (0 * 1/2 + 1 * 1/2) \n",
    "\n",
    "# P(Range(10)) = 4.5 = 0 * 0.1 + 1 * 0.1 + 2 * 0.1 ... 9 * 0.1\n",
    "\n",
    "# 2 girls example\n",
    "# X = Random Variable representing the number of girls\n",
    "# X = 0 with Probability of 1/4 (BB: 2 boys)\n",
    "# X = 1 with Probabaility of 1/2 (BG or GB: 1 girl)\n",
    "# X = 2 with Probability of 1/4 (GG: 2 girls)\n",
    "\n",
    "# Random variable Y: The number of girls conditional on at least 1 of the children is a girl\n",
    "# 3 possibilities: BG, GB, GG\n",
    "# Y = 1: Probability of 2/3\n",
    "# Y = 2: Probability of 1/3\n",
    "\n",
    "# Z: THE number of girls conditional on the older child being a girl\n",
    "# 2 Possibilies: GB, GG\n",
    "# Z = 1: Probability of 1/2\n",
    "# Z = 2: Probability of 1/2"
   ]
  },
  {
   "cell_type": "code",
   "execution_count": null,
   "metadata": {},
   "outputs": [],
   "source": [
    "# Continuous Distributions:\n",
    "\n",
    "# Coin flip = Discrete Distribution (Binary outcomes)\n",
    "# Uniform Distribution: Puts equal weight on all numbers between 0 and 1\n",
    "\n",
    "# Probability density function (pdf): ALL VALUES EITHER 0 or 1\n",
    "\n",
    "# Cumulative distribution Function (cdf): gives the prob that a random variable is less than or equal to a certain value\n",
    "\n",
    "def uniform_pdf(x):\n",
    "    \n",
    "    return 1 if x >= 0 else 0\n",
    "\n",
    "def uniform_cdf(x):\n",
    "    \"returns the prob that a uniform random variable is <= x\"\n",
    "    if x < 0:\n",
    "        return 0 # uniform random is never less than 0\n",
    "    elif x < 1:\n",
    "        return x # ex: P(X <= 0.4) = 0.4\n",
    "    else:\n",
    "        return 1 # uniform random is always less than or equal to 1\n"
   ]
  },
  {
   "cell_type": "code",
   "execution_count": 3,
   "metadata": {},
   "outputs": [
    {
     "data": {
      "text/plain": [
       "<matplotlib.figure.Figure at 0x64a28d0>"
      ]
     },
     "metadata": {},
     "output_type": "display_data"
    }
   ],
   "source": [
    "# Normal Distribution:\n",
    "import math\n",
    "from matplotlib import pyplot as plt\n",
    "\n",
    "# Classic Bell Curve determined by the mean and and standard deviation (sigma)\n",
    "# Mean:determines where the bell curve is centered\n",
    "# Standard Dev: how wide the bell curve is\n",
    "# x: random variable\n",
    "\n",
    "def normal_pdf(x, mu = 0, sigma = 1):\n",
    "    sqrt_two_pi = math.sqrt(2*math.pi)\n",
    "    return (math.exp(-(x-mu) ** 2 / 2 / sigma **2) / (sqrt_two_pi * sigma))\n",
    "\n",
    "# -50 to 49 / 10:\n",
    "xs = [x / 10.0 for x in range(-50, 50)]\n",
    "plt.plot(xs, [normal_pdf(x,sigma=1) for x in xs],'-',label='mu=0,sigma=1')\n",
    "plt.plot(xs, [normal_pdf(x,sigma=2) for x in xs],'--',label='mu=0,sigma=2')\n",
    "plt.plot(xs, [normal_pdf(x,sigma=0.5) for x in xs],':',label='mu=0,sigma=0.5')\n",
    "plt.plot(xs, [normal_pdf(x,mu=-1) for x in xs],'-.',label='mu=-1,sigma=1')\n",
    "plt.legend()\n",
    "plt.title(\"Various Normal pdfs\")\n",
    "plt.show()"
   ]
  },
  {
   "cell_type": "code",
   "execution_count": null,
   "metadata": {},
   "outputs": [],
   "source": []
  }
 ],
 "metadata": {
  "kernelspec": {
   "display_name": "Python 2",
   "language": "python",
   "name": "python2"
  },
  "language_info": {
   "codemirror_mode": {
    "name": "ipython",
    "version": 2
   },
   "file_extension": ".py",
   "mimetype": "text/x-python",
   "name": "python",
   "nbconvert_exporter": "python",
   "pygments_lexer": "ipython2",
   "version": "2.7.14"
  }
 },
 "nbformat": 4,
 "nbformat_minor": 2
}
