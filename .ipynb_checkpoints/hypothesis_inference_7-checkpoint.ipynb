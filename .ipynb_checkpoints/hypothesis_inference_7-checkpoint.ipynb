{
 "cells": [
  {
   "cell_type": "code",
   "execution_count": 1,
   "metadata": {},
   "outputs": [
    {
     "ename": "SyntaxError",
     "evalue": "invalid syntax (<ipython-input-1-cc75cf9c3077>, line 20)",
     "output_type": "error",
     "traceback": [
      "\u001b[1;36m  File \u001b[1;32m\"<ipython-input-1-cc75cf9c3077>\"\u001b[1;36m, line \u001b[1;32m20\u001b[0m\n\u001b[1;33m    def normal_approx\u001b[0m\n\u001b[1;37m                     ^\u001b[0m\n\u001b[1;31mSyntaxError\u001b[0m\u001b[1;31m:\u001b[0m invalid syntax\n"
     ]
    }
   ],
   "source": [
    "# Statistical Hypothesis Testing:\n",
    "# Need to create hypothesis and test our assertions\n",
    "\n",
    "# Example:\n",
    "# This is a fair coin\n",
    "# Data scientists prefer Ptython to R\n",
    "# Null Hypothesis H0: default position\n",
    "# H1: Alternate hypothesis to compare H0 to\n",
    "\n",
    "# 1. fLIPPING A COIN\n",
    "# a COIN AND WANT TO TEST IF ITS FAIR\n",
    "# H0: Assumption that the coin has a prob p of landing heads\n",
    "# Null Hypothesis - The coin is fair so p = 0.5\n",
    "# H1: Alternate Hypothesis: p != 0.5\n",
    "\n",
    "# We will test flipping the coin N times and counting the number of heads X\n",
    "# Each coin flip is a Bernoulli trial\n",
    "# so X is a Binomail(n,p) random variable we can approx using the normal distribution:\n",
    "\n",
    "def normal_approx_to_binomail(n, p):\n",
    "    \n",
    "    \"\"\"Finds mu and sigma corresponding to a Binomail(n,p)\"\"\"\n",
    "    # Mean = probability * N (number of trials) = 0.5 * n\n",
    "    mu = p * n\n",
    "    # Standard Dev = sqrt of prob (Null H0) * (1-PROB) (H1:Alt Hypo) * N\n",
    "    # sqrt(0.5 * (1-0.5) * n)\n",
    "    sigma = math.sqrt(p * (1-p)*n)\n",
    "    return mu, sigma\n",
    "    "
   ]
  }
 ],
 "metadata": {
  "kernelspec": {
   "display_name": "Python 2",
   "language": "python",
   "name": "python2"
  },
  "language_info": {
   "codemirror_mode": {
    "name": "ipython",
    "version": 2
   },
   "file_extension": ".py",
   "mimetype": "text/x-python",
   "name": "python",
   "nbconvert_exporter": "python",
   "pygments_lexer": "ipython2",
   "version": "2.7.14"
  }
 },
 "nbformat": 4,
 "nbformat_minor": 2
}
